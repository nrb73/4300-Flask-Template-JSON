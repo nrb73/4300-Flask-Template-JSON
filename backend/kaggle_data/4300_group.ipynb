{
 "cells": [
  {
   "cell_type": "code",
   "execution_count": 107,
   "id": "d029aed6-38fb-4e41-933c-61c849a91993",
   "metadata": {},
   "outputs": [
    {
     "name": "stderr",
     "output_type": "stream",
     "text": [
      "[nltk_data] Downloading package stopwords to\n",
      "[nltk_data]     /Users/nikhilraghavbhatt/nltk_data...\n",
      "[nltk_data]   Package stopwords is already up-to-date!\n",
      "[nltk_data] Downloading package wordnet to\n",
      "[nltk_data]     /Users/nikhilraghavbhatt/nltk_data...\n",
      "[nltk_data]   Package wordnet is already up-to-date!\n"
     ]
    },
    {
     "data": {
      "text/plain": [
       "True"
      ]
     },
     "execution_count": 107,
     "metadata": {},
     "output_type": "execute_result"
    }
   ],
   "source": [
    "import pandas as pd\n",
    "from sklearn.feature_extraction.text import TfidfVectorizer\n",
    "from sklearn.metrics.pairwise import cosine_similarity\n",
    "import string\n",
    "import nltk\n",
    "from nltk.corpus import stopwords\n",
    "from nltk.stem import WordNetLemmatizer\n",
    "nltk.download('stopwords')\n",
    "nltk.download('wordnet')"
   ]
  },
  {
   "cell_type": "code",
   "execution_count": 108,
   "id": "8d64541c-e418-4a8d-b3ad-61097c0a9e8e",
   "metadata": {},
   "outputs": [
    {
     "data": {
      "text/html": [
       "<div>\n",
       "<style scoped>\n",
       "    .dataframe tbody tr th:only-of-type {\n",
       "        vertical-align: middle;\n",
       "    }\n",
       "\n",
       "    .dataframe tbody tr th {\n",
       "        vertical-align: top;\n",
       "    }\n",
       "\n",
       "    .dataframe thead th {\n",
       "        text-align: right;\n",
       "    }\n",
       "</style>\n",
       "<table border=\"1\" class=\"dataframe\">\n",
       "  <thead>\n",
       "    <tr style=\"text-align: right;\">\n",
       "      <th></th>\n",
       "      <th>Unnamed: 0</th>\n",
       "      <th>title</th>\n",
       "      <th>tag</th>\n",
       "      <th>artist</th>\n",
       "      <th>year</th>\n",
       "      <th>views</th>\n",
       "      <th>lyrics</th>\n",
       "    </tr>\n",
       "  </thead>\n",
       "  <tbody>\n",
       "    <tr>\n",
       "      <th>0</th>\n",
       "      <td>0</td>\n",
       "      <td>Killa Cam</td>\n",
       "      <td>rap</td>\n",
       "      <td>Cam'ron</td>\n",
       "      <td>2004</td>\n",
       "      <td>173166</td>\n",
       "      <td>Killa Cam, Killa Cam, Cam Killa Cam, Killa Ca...</td>\n",
       "    </tr>\n",
       "    <tr>\n",
       "      <th>1</th>\n",
       "      <td>1</td>\n",
       "      <td>Can I Live</td>\n",
       "      <td>rap</td>\n",
       "      <td>JAY-Z</td>\n",
       "      <td>1996</td>\n",
       "      <td>468624</td>\n",
       "      <td>Yeah, hah, yeah, Roc-A-Fella We invite you ...</td>\n",
       "    </tr>\n",
       "    <tr>\n",
       "      <th>2</th>\n",
       "      <td>2</td>\n",
       "      <td>Forgive Me Father</td>\n",
       "      <td>rap</td>\n",
       "      <td>Fabolous</td>\n",
       "      <td>2003</td>\n",
       "      <td>4743</td>\n",
       "      <td>Maybe cause I'm eatin And these bastards fiend...</td>\n",
       "    </tr>\n",
       "    <tr>\n",
       "      <th>3</th>\n",
       "      <td>3</td>\n",
       "      <td>Down and Out</td>\n",
       "      <td>rap</td>\n",
       "      <td>Cam'ron</td>\n",
       "      <td>2004</td>\n",
       "      <td>144404</td>\n",
       "      <td>Ugh, Killa! Baby! Kanye, this that 1970s He...</td>\n",
       "    </tr>\n",
       "    <tr>\n",
       "      <th>4</th>\n",
       "      <td>4</td>\n",
       "      <td>Fly In</td>\n",
       "      <td>rap</td>\n",
       "      <td>Lil Wayne</td>\n",
       "      <td>2005</td>\n",
       "      <td>78271</td>\n",
       "      <td>So they ask me \"Young boy What you gon' do th...</td>\n",
       "    </tr>\n",
       "  </tbody>\n",
       "</table>\n",
       "</div>"
      ],
      "text/plain": [
       "   Unnamed: 0              title  tag     artist  year   views  \\\n",
       "0           0          Killa Cam  rap    Cam'ron  2004  173166   \n",
       "1           1         Can I Live  rap      JAY-Z  1996  468624   \n",
       "2           2  Forgive Me Father  rap   Fabolous  2003    4743   \n",
       "3           3       Down and Out  rap    Cam'ron  2004  144404   \n",
       "4           4             Fly In  rap  Lil Wayne  2005   78271   \n",
       "\n",
       "                                              lyrics  \n",
       "0   Killa Cam, Killa Cam, Cam Killa Cam, Killa Ca...  \n",
       "1     Yeah, hah, yeah, Roc-A-Fella We invite you ...  \n",
       "2  Maybe cause I'm eatin And these bastards fiend...  \n",
       "3     Ugh, Killa! Baby! Kanye, this that 1970s He...  \n",
       "4   So they ask me \"Young boy What you gon' do th...  "
      ]
     },
     "execution_count": 108,
     "metadata": {},
     "output_type": "execute_result"
    }
   ],
   "source": [
    "df = pd.read_csv(\"/Users/nikhilraghavbhatt/Desktop/4300/test_df.csv\")\n",
    "df.head()"
   ]
  },
  {
   "cell_type": "code",
   "execution_count": 109,
   "id": "94dd16b9-485d-4969-b453-3e4da2a93655",
   "metadata": {},
   "outputs": [
    {
     "name": "stdout",
     "output_type": "stream",
     "text": [
      "artist                                                              2Pac\n",
      "song_titles            To Live and Die in L.A. Changes Hail Mary Cali...\n",
      "average_views                                              657845.892857\n",
      "concatenated_lyrics     “Street Science, you’re on the air. What do y...\n",
      "tags                                                               [rap]\n",
      "Name: 0, dtype: object\n"
     ]
    }
   ],
   "source": [
    "# TRANSFORMING THE DATA TO GROUP BY ARTIST\n",
    "\n",
    "# all the titles and lyrics for a given artist are concatenated into a single string \n",
    "artist_df = df.groupby('artist').agg({\n",
    "    'title': ' '.join,  \n",
    "    'views': 'mean',           \n",
    "    'lyrics': ' '.join,    \n",
    "    'tag': lambda x: list(x.unique())\n",
    "}).reset_index()\n",
    "\n",
    "artist_df.rename(columns={'title': 'song_titles', 'views': 'average_views', 'lyrics': 'concatenated_lyrics', 'tag': 'tags'}, inplace=True)\n",
    "\n",
    "print(artist_df.iloc[0])"
   ]
  },
  {
   "cell_type": "code",
   "execution_count": 111,
   "id": "b5f5d011-5091-4476-ae22-67e1a135b493",
   "metadata": {},
   "outputs": [
    {
     "name": "stdout",
     "output_type": "stream",
     "text": [
      "0    “street science you’re air feel hear record li...\n",
      "1    new york city rockin cent gotta love wanna chi...\n",
      "2    az ha ha ha new drink bailey henny aint got he...\n",
      "3    intro jayz aaliyah sup baby girl ohhh thought ...\n",
      "4    yo cold tryin give murder rap aint even like y...\n",
      "Name: concatenated_lyrics, dtype: object\n"
     ]
    }
   ],
   "source": [
    "#PREPROCESSING LYRIC DATA\n",
    "\n",
    "#lower case\n",
    "artist_df['concatenated_lyrics'] = artist_df['concatenated_lyrics'].apply(lambda x: x.lower())\n",
    "\n",
    "#removing stop words\n",
    "stop_words = set(stopwords.words('english'))\n",
    "artist_df['concatenated_lyrics'] = artist_df['concatenated_lyrics'].apply(lambda x: ' '.join([word for word in x.split() if word not in stop_words]))\n",
    "\n",
    "#removing punctuation and special characters\n",
    "artist_df['concatenated_lyrics'] = artist_df['concatenated_lyrics'].apply(lambda x: x.translate(str.maketrans('', '', string.punctuation)))\n",
    "\n",
    "#removing numbers\n",
    "artist_df['concatenated_lyrics'] = artist_df['concatenated_lyrics'].apply(lambda x: ''.join([i for i in x if not i.isdigit()]))\n",
    "\n",
    "#converting words to lemmatized/base form\n",
    "lemmatizer = WordNetLemmatizer()\n",
    "artist_df['concatenated_lyrics'] = artist_df['concatenated_lyrics'].apply(lambda x: ' '.join([lemmatizer.lemmatize(word) for word in x.split()]))\n",
    "\n",
    "#check\n",
    "print(artist_df['concatenated_lyrics'].head())"
   ]
  },
  {
   "cell_type": "code",
   "execution_count": 112,
   "id": "d43c2483-903a-4efa-adb7-11c2108f7355",
   "metadata": {},
   "outputs": [
    {
     "name": "stdout",
     "output_type": "stream",
     "text": [
      "artist\n",
      "Lil Wayne          0.529491\n",
      "JAY-Z              0.522020\n",
      "Drake              0.493340\n",
      "Kanye West         0.460687\n",
      "Joe Budden         0.460440\n",
      "                     ...   \n",
      "Jeru the Damaja    0.031196\n",
      "Bomfunk MC's       0.027317\n",
      "Trillville         0.023646\n",
      "The Clash          0.021447\n",
      "Bizzy Bone         0.018714\n",
      "Name: Eminem, Length: 261, dtype: float64\n"
     ]
    }
   ],
   "source": [
    "# ARTIST SIMILARITY USING ONLY LYRICAL SIMILARITY\n",
    "\n",
    "# finding tfidf scores\n",
    "tfidf_vectorizer = TfidfVectorizer(max_features=10000, stop_words='english', ngram_range=(1,2))\n",
    "tfidf_matrix = tfidf_vectorizer.fit_transform(artist_df['concatenated_lyrics'])\n",
    "\n",
    "# finding cosine similarity\n",
    "cosine_sim = cosine_similarity(tfidf_matrix, tfidf_matrix)\n",
    "cosine_sim_df = pd.DataFrame(cosine_sim, index=artist_df['artist'], columns=artist_df['artist'])\n",
    "\n",
    "# get similarity scores for Eminem\n",
    "similar_artists = cosine_sim_df['Eminem'].sort_values(ascending=False)\n",
    "print(similar_artists[1:])\n"
   ]
  },
  {
   "cell_type": "code",
   "execution_count": 114,
   "id": "eab0ed4a-065b-4ac6-b954-ae961b70aa74",
   "metadata": {},
   "outputs": [
    {
     "name": "stdout",
     "output_type": "stream",
     "text": [
      "im                         0.360740\n",
      "like                       0.198072\n",
      "shady                      0.177218\n",
      "cause                      0.145833\n",
      "superman                   0.135389\n",
      "                             ...   \n",
      "mr carter                  0.000000\n",
      "drop allallallallallall    0.000000\n",
      "moët                       0.000000\n",
      "moving world               0.000000\n",
      "aaliyah                    0.000000\n",
      "Length: 10000, dtype: float64\n"
     ]
    }
   ],
   "source": [
    "# CHECKING TOP 10 SIGNIFICANT LYRICS FOR A GIVEN ARTIST\n",
    "\n",
    "feature_names = tfidf_vectorizer.get_feature_names()\n",
    "artist_index = artist_df.index[artist_df['artist'] == \"Eminem\"][0]\n",
    "artist_vector = tfidf_matrix[artist_index].toarray().flatten()\n",
    "top_words = pd.Series(artist_vector, index=feature_names).sort_values(ascending=False)\n",
    "\n",
    "print(top_words)"
   ]
  },
  {
   "cell_type": "code",
   "execution_count": 115,
   "id": "bdfc2ce9-63d2-4698-9454-d599be5b57b8",
   "metadata": {},
   "outputs": [
    {
     "name": "stdout",
     "output_type": "stream",
     "text": [
      "0    live die la change hail mary california love g...\n",
      "1    question da club rob patiently waiting ghetto ...\n",
      "2          love love sunshine time hey az never change\n",
      "3                                           miss remix\n",
      "4                                           murder rap\n",
      "Name: song_titles, dtype: object\n"
     ]
    }
   ],
   "source": [
    "#PREPROCESSING SONG TITLE DATA\n",
    "\n",
    "#lower case\n",
    "artist_df['song_titles'] = artist_df['song_titles'].apply(lambda x: x.lower())\n",
    "\n",
    "#removing stop words\n",
    "stop_words = set(stopwords.words('english'))\n",
    "artist_df['song_titles'] = artist_df['song_titles'].apply(lambda x: ' '.join([word for word in x.split() if word not in stop_words]))\n",
    "\n",
    "#removing punctuation and special characters\n",
    "artist_df['song_titles'] = artist_df['song_titles'].apply(lambda x: x.translate(str.maketrans('', '', string.punctuation)))\n",
    "\n",
    "#removing numbers\n",
    "artist_df['song_titles'] = artist_df['song_titles'].apply(lambda x: ''.join([i for i in x if not i.isdigit()]))\n",
    "\n",
    "#converting words to lemmatized/base form\n",
    "lemmatizer = WordNetLemmatizer()\n",
    "artist_df['song_titles'] = artist_df['song_titles'].apply(lambda x: ' '.join([lemmatizer.lemmatize(word) for word in x.split()]))\n",
    "\n",
    "#check\n",
    "print(artist_df['song_titles'].head())"
   ]
  },
  {
   "cell_type": "code",
   "execution_count": 89,
   "id": "38ae1f21-df55-40b9-95ba-97ad18e6eb6b",
   "metadata": {},
   "outputs": [
    {
     "name": "stdout",
     "output_type": "stream",
     "text": [
      "artist\n",
      "Neil Young                              0.120735\n",
      "CeeLo Green                             0.113629\n",
      "Gucci Mane                              0.078162\n",
      "Common                                  0.068720\n",
      "Spice 1                                 0.061634\n",
      "                                          ...   \n",
      "Glasses Malone                          0.000000\n",
      "Goodie Mob                              0.000000\n",
      "Grandmaster Flash & The Furious Five    0.000000\n",
      "Gudda Gudda                             0.000000\n",
      "eLZhi                                   0.000000\n",
      "Name: Eminem, Length: 261, dtype: float64\n"
     ]
    }
   ],
   "source": [
    "# FINDING ARTIST SIMILARITY USING ONLY SONG TITLES\n",
    "\n",
    "#finding tfidf scores\n",
    "tfidf_vectorizer_title = TfidfVectorizer(max_features=10000, stop_words='english', ngram_range=(1,2))\n",
    "tfidf_matrix_title = tfidf_vectorizer_title.fit_transform(artist_df['song_titles'])\n",
    "\n",
    "#finding cosine similarity\n",
    "cosine_sim_title = cosine_similarity(tfidf_matrix_title, tfidf_matrix_title)\n",
    "cosine_sim_df_title = pd.DataFrame(cosine_sim_title, index=artist_df['artist'], columns=artist_df['artist'])\n",
    "\n",
    "# get similarity scores for Eminem\n",
    "similar_artists_title = cosine_sim_df_title['Eminem'].sort_values(ascending=False)\n",
    "print(similar_artists_title[1:])  # start from index 1 to skip 'Cam\\'ron'"
   ]
  },
  {
   "cell_type": "code",
   "execution_count": 116,
   "id": "1894a578-d5c6-4ab8-a268-7a3b3f7341f6",
   "metadata": {},
   "outputs": [],
   "source": [
    "#NOW WE MAKE THE COMPOSITE VECTOR BY COMBINING THE FEATURES WE HAVE\n",
    "\n",
    "#NORMALIZING AVERAGE VIEW COUNTS - feature in composite vector\n",
    "\n",
    "from sklearn.preprocessing import MinMaxScaler\n",
    "\n",
    "scaler = MinMaxScaler()\n",
    "view_counts_normalized = scaler.fit_transform(artist_df[['average_views']])\n"
   ]
  },
  {
   "cell_type": "code",
   "execution_count": 117,
   "id": "14a3c4bd-ab69-4d4a-b748-786725e76b26",
   "metadata": {},
   "outputs": [],
   "source": [
    "#VECTORIZATION OF TAGS (GENRES) - feature in composite vector\n",
    "\n",
    "from sklearn.preprocessing import MultiLabelBinarizer\n",
    "\n",
    "tag_binarizer = MultiLabelBinarizer()\n",
    "tags_transformed = tag_binarizer.fit_transform(artist_df['tags'])"
   ]
  },
  {
   "cell_type": "code",
   "execution_count": 118,
   "id": "15fb54a6-c3fd-4060-afa3-8320212778fb",
   "metadata": {},
   "outputs": [],
   "source": [
    "# ARTIST SIMILARITY WITH COMPOSITE VECTOR\n",
    "\n",
    "# defining weights for features\n",
    "weight_titles = 0.3 #since song titles did not give accurate results, weighted less\n",
    "weight_lyrics = 1.5 #weighted more since it was more accurate\n",
    "weight_views = 1.0 \n",
    "weight_tags = 1.0\n",
    "\n",
    "# applying weights to features\n",
    "weighted_titles = tfidf_matrix_title.toarray() * weight_titles\n",
    "weighted_lyrics = tfidf_matrix.toarray() * weight_lyrics\n",
    "weighted_views = view_counts_normalized * weight_views\n",
    "weighted_tags = tags_transformed * weight_tags\n",
    "\n",
    "#MAKING THE COMPOSITE VECTOR\n",
    "\n",
    "features_combined_weighted = np.hstack((weighted_titles, weighted_lyrics, weighted_views, weighted_tags))\n",
    "\n",
    "#COSINE SIMILARITY FOR COMPOSITE VECTOR\n",
    "\n",
    "cosine_sim_weighted = cosine_similarity(features_combined_weighted, features_combined_weighted)\n",
    "cosine_sim_df_weighted = pd.DataFrame(cosine_sim_weighted, index=artist_df['artist'], columns=artist_df['artist'])\n"
   ]
  },
  {
   "cell_type": "code",
   "execution_count": 119,
   "id": "04c52405-c211-447d-8571-a4ed958d68e5",
   "metadata": {},
   "outputs": [
    {
     "name": "stdout",
     "output_type": "stream",
     "text": [
      "artist\n",
      "Lil Wayne          0.673252\n",
      "Eminem             0.652094\n",
      "Joe Budden         0.646191\n",
      "Nas                0.643094\n",
      "2Pac               0.634920\n",
      "                     ...   \n",
      "Vampire Weekend    0.031139\n",
      "Arcade Fire        0.025727\n",
      "Tom Tom Club       0.023277\n",
      "Lady Gaga          0.023122\n",
      "The Clash          0.010239\n",
      "Name: JAY-Z, Length: 261, dtype: float64\n"
     ]
    }
   ],
   "source": [
    "# GET SIMILAR ARTISTS TO A SPECIFIED ARTIST WITH SCORES USING COMPOSITE VECTOR\n",
    "\n",
    "# checking Jay-Z\n",
    "similar_artists_composite = cosine_sim_df_weighted['JAY-Z'].sort_values(ascending=False)\n",
    "print(similar_artists_composite[1:])  # start from index 1 to skip Eminem himself\n"
   ]
  },
  {
   "cell_type": "code",
   "execution_count": 120,
   "id": "e829edc8-4dc1-41c4-b332-b750683d3bd3",
   "metadata": {},
   "outputs": [],
   "source": [
    "# ROCCHIO FEEDBACK FOR COMPOSITE VECTOR\n",
    "\n",
    "query_artist = 'JAY-Z'\n",
    "\n",
    "#feedback - relevant and irrelevant artists\n",
    "relevant_artists = ['Lil Wayne', 'Drake']\n",
    "irrelevant_artists = ['Joe Budden', 'Lady Gaga']\n",
    "\n",
    "query_index = artist_df.index[artist_df['artist'] == query_artist].tolist()[0]\n",
    "relevant_indices = artist_df.index[artist_df['artist'].isin(relevant_artists)].tolist()\n",
    "irrelevant_indices = artist_df.index[artist_df['artist'].isin(irrelevant_artists)].tolist()\n",
    "\n",
    "def mean_vector(indices, feature_matrix):\n",
    "    return np.mean(feature_matrix[indices, :], axis=0)\n",
    "\n",
    "# finding relevant and irrelevant vectors\n",
    "original_query_vector = features_combined_weighted[query_index, :]\n",
    "mean_relevant = mean_vector(relevant_indices, features_combined_weighted)\n",
    "mean_irrelevant = mean_vector(irrelevant_indices, features_combined_weighted)\n",
    "\n",
    "# rocchio parameters\n",
    "alpha, beta, gamma = 1.0, 0.75, 0.25\n",
    "\n",
    "# update query vector after performing rocchio\n",
    "updated_query_vector = (alpha * original_query_vector +\n",
    "                        beta * mean_relevant -\n",
    "                        gamma * mean_irrelevant)\n",
    "\n",
    "# updated recommendations\n",
    "updated_similarities = cosine_similarity(updated_query_vector.reshape(1, -1), features_combined_weighted)\n",
    "updated_similarities_df = pd.DataFrame(updated_similarities, columns=artist_df['artist'], index=['Similarity']).T\n",
    "updated_recommendations = updated_similarities_df.sort_values(by='Similarity', ascending=False)\n",
    "\n"
   ]
  },
  {
   "cell_type": "code",
   "execution_count": 121,
   "id": "34d268fd-8030-47db-a15f-bdc49ee699d7",
   "metadata": {},
   "outputs": [
    {
     "name": "stdout",
     "output_type": "stream",
     "text": [
      "Updated Recommendations after Rocchio Feedback:\n",
      "                 Similarity\n",
      "artist                     \n",
      "Lil Wayne          0.812529\n",
      "Drake              0.735319\n",
      "Eminem             0.711903\n",
      "2Pac               0.672750\n",
      "Nas                0.669944\n",
      "...                     ...\n",
      "Robin Thicke       0.062740\n",
      "Brandon Flowers    0.051135\n",
      "Arcade Fire        0.029079\n",
      "Lady Gaga          0.015760\n",
      "The Clash          0.009760\n",
      "\n",
      "[261 rows x 1 columns]\n"
     ]
    }
   ],
   "source": [
    "print(\"Updated Recommendations after Rocchio Feedback:\")\n",
    "print(updated_recommendations[1:])"
   ]
  },
  {
   "cell_type": "code",
   "execution_count": null,
   "id": "89b6a128-395e-4667-937f-1c0731d50002",
   "metadata": {},
   "outputs": [],
   "source": []
  }
 ],
 "metadata": {
  "kernelspec": {
   "display_name": "Python 3 (ipykernel)",
   "language": "python",
   "name": "python3"
  },
  "language_info": {
   "codemirror_mode": {
    "name": "ipython",
    "version": 3
   },
   "file_extension": ".py",
   "mimetype": "text/x-python",
   "name": "python",
   "nbconvert_exporter": "python",
   "pygments_lexer": "ipython3",
   "version": "3.9.7"
  }
 },
 "nbformat": 4,
 "nbformat_minor": 5
}
